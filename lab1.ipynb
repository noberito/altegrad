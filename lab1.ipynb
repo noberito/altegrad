{
 "cells": [
  {
   "cell_type": "markdown",
   "metadata": {
    "colab_type": "text",
    "id": "view-in-github"
   },
   "source": [
    "<a href=\"https://colab.research.google.com/github/noberito/altegrad/blob/main/lab1.ipynb\" target=\"_parent\"><img src=\"https://colab.research.google.com/assets/colab-badge.svg\" alt=\"Open In Colab\"/></a>"
   ]
  },
  {
   "cell_type": "markdown",
   "metadata": {
    "id": "PwXvz16rv753"
   },
   "source": [
    "<center>\n",
    "<h1>\n",
    "<h1>APM 53674: ALTeGraD</h1>\n",
    "<h2>Lab Session 1: Neural Machine Translation and Language Modeling</h2>\n",
    "<h4>Lecture: Prof. Michalis Vazirgiannis<br>\n",
    "Lab: Dr. Hadi Abdine and Yang Zhang</h4>\n",
    "<h5>Monday, September 30, 2025</h5>\n",
    "<br>\n",
    "</center>\n",
    "\n",
    "<hr style=\"border:10px solid gray\"> </hr>\n",
    "<p style=\"text-align: justify;\">\n",
    "This handout includes theoretical introductions, <font color='blue'>coding tasks</font> and <font color='red'>questions</font>. Before the deadline, you should submit <a href='https://forms.gle/9dyaes6dimfvyjwq6' target=\"_blank\">here</a> a <B>.ipynb</B> file named <b>Lastname_Firstname.ipynb</b> containing your notebook (with the gaps filled and your answers to the questions). Your answers should be well constructed and well justified. They should not repeat the question or generalities in the handout. When relevant, you are welcome to include figures, equations and tables derived from your own computations, theoretical proofs or qualitative explanations. One submission is required for each student. The deadline for this lab is <b>October 05\n",
    ", 2025 11:59 PM</b>. No extension will be granted. Late policy is as follows: ]0, 24] hours late → -5 pts; ]24, 48] hours late → -10 pts; > 48 hours late → not graded (zero).\n",
    "</p>\n",
    "<hr style=\"border:5px solid gray\"> </hr>\n"
   ]
  },
  {
   "cell_type": "markdown",
   "metadata": {
    "id": "002zIWSTw46F"
   },
   "source": [
    "## <b>Neural Machine Translation</b></h2>"
   ]
  },
  {
   "cell_type": "markdown",
   "metadata": {
    "id": "lCJvlnvsKALE"
   },
   "source": [
    "<h3><b>1. Learning Objective:</b></h2>\n",
    "<p style=\"text-align: justify;\">\n",
    "In this lab, you will learn about sequence to sequence (seq2seq) architectures.\n",
    "More precisely, we will implement the Neural Machine Translation (NMT) model described in <a href='https://arxiv.org/abs/1508.04025'>[Luong et al., 2015]</a> using Python 3.6 and PyTorch (the latest version).\n",
    "The only difference is that we will be using non-stacked RNNs, whereas <a href='https://arxiv.org/abs/1508.04025'>[Luong et al., 2015]</a> uses stacked RNNs.\n",
    "\n",
    "We will train our model on the task of English to French translation, using a set of sentence pairs from <a href='http://www.manythings.org/anki/'>http://www.manythings.org/anki/</a>, originally extracted from the Tatoeba project: <a href='https://tatoeba.org/eng/'>https://tatoeba.org/eng/</a>.\n",
    "\n",
    "Our dataset features 136,521 pairs for training and 34,130 pairs for testing, which is quite small, but enough for the purpose of this lab.\n",
    "The average size of a source sentence is 7.6 while the average size of a target sentence is 8.3.\n",
    "\n",
    "$\\underline{\\textbf{Note}}$: the pairs have already been preprocessed.\n",
    "Each sentence was turned into a list of integers starting from 4.\n",
    "The integers correspond to indexes in the source and target vocabularies, that have been constructed from the training set, and in which the most frequent words have index 4.\n",
    "0, 1, 2 and 3 are reserved respectively for the padding, out-of-vocabulary, start of sentence, and end of sentence special tokens.\n",
    "\n",
    "<h3><b>2. Recurrent Neural Networks:</b></h3>\n",
    "<p style=\"text-align: justify;\">\n",
    "\n",
    "While CNNs are good at dealing with grids, RNNs were specifically developed to be used with sequences.\n",
    "As shown in Fig. 1, a RNN can be viewed as a chain of simple neural layers that share the same parameters.\n",
    "From a high level, a RNN is fed an ordered list of input vectors $\\big\\{x_{1},...,x_{T}\\big\\}$ as well as an initial hidden state $h_{0}$ initialized to all zeros, and returns an ordered list of hidden states $\\big\\{h_{1},...,h_{T}\\big\\}$, as well as an ordered list of output vectors $\\big\\{y_{1},...,y_{T}\\big\\}$.\n",
    "The hidden states may serve as input to the RNN units above in the case of a stacked architecture, or directly be used as they are (e.g., by the attention mechanism).\n",
    "The hidden states correspond more or less to the \"short-term\" memory of the network.\n",
    "<center>\n",
    "<table><tr>\n",
    "<td> <img src='https://1drv.ms/i/c/ae69638675180117/UQQXARh1hmNpIICuu4QBAAAAAMrZ9Edq70cBsjo?width=498&height=246' alt=\"Drawing\" width= '500px'/> </td>\n",
    "<td> <img src=\"https://1drv.ms/i/c/ae69638675180117/UQQXARh1hmNpIICuvIQBAAAAAJVN-1WBTh55QtY?width=1336&height=733\" alt=\"Drawing\" width='500px'/> </td>\n",
    "</tr></table>\n",
    "\n",
    "<b>Figure 1:</b> Left: 3 steps of an unrolled RNN (adapted from <a href='http://www.wildml.com/2015/09/recurrent-neural-networks-tutorial-part-2-implementing-a-language-model-rnn-with-python-numpy-and-theano/'>Denny Britz' blog</a>). Right: 3 steps of an unrolled stacked RNN.\n",
    "The hidden states at a given position flow vertically through the RNN layers. On both sides, each circle represents a  RNN unit. </a><br>\n",
    "</center>\n",
    "\n",
    "<h3><b>3. Sequence-to-sequence architecture:</b></h3>\n",
    "<p style=\"text-align: justify;\">\n",
    "Our input and output are sequences of words, respectively $x = \\big(x_1, \\dots ,x_{T_x}\\big)$ and $y = \\big(y_1, \\dots ,y_{T_y}\\big)$.\n",
    "$x$ and $y$ are usually referred to as the $\\textit{source}$ and $\\textit{target}$ sentences.\n",
    "<h4><b>3.1. Encoder</b></h4>\n",
    "<p style=\"text-align: justify;\">\n",
    "Our encoder is a non-stacked unidirectional RNN with GRU units (see the appendix for details about the GRU.)\n",
    "\n"
   ]
  },
  {
   "cell_type": "code",
   "execution_count": 2,
   "metadata": {
    "colab": {
     "base_uri": "https://localhost:8080/"
    },
    "id": "DB6pvLvlKbtD",
    "outputId": "5be36c53-923c-4ad1-d347-726eaa3a1dd8"
   },
   "outputs": [
    {
     "name": "stderr",
     "output_type": "stream",
     "text": [
      "[nltk_data] Downloading package punkt to\n",
      "[nltk_data]     /Users/clementnober/nltk_data...\n",
      "[nltk_data]   Package punkt is already up-to-date!\n",
      "[nltk_data] Downloading package punkt_tab to\n",
      "[nltk_data]     /Users/clementnober/nltk_data...\n",
      "[nltk_data]   Package punkt_tab is already up-to-date!\n"
     ]
    }
   ],
   "source": [
    "import torch\n",
    "import torch.nn as nn\n",
    "import torch.optim as optim\n",
    "from torch.utils import data\n",
    "from torch.nn.utils.rnn import pad_sequence\n",
    "from tqdm import tqdm\n",
    "from nltk import word_tokenize\n",
    "import sys\n",
    "import json\n",
    "import nltk\n",
    "nltk.download('punkt')\n",
    "nltk.download('punkt_tab')\n",
    "import numpy as np\n",
    "import matplotlib.pyplot as plt"
   ]
  },
  {
   "cell_type": "markdown",
   "metadata": {
    "id": "LNLFXbJu7Kcp"
   },
   "source": [
    "\n",
    "<b><h4><font color='blue'>\n",
    "<hr style=\"border:10px solid blue\"> </hr>\n",
    "Task 1: </b><br>\n",
    "Fill the gaps in the $\\texttt{forward}$ function of the $\\texttt{Encoder}$ class.\n",
    "<hr style=\"border:10px solid blue\"> </hr>\n",
    "</font></h4>"
   ]
  },
  {
   "cell_type": "code",
   "execution_count": 3,
   "metadata": {
    "id": "Kc8cQTFkKmif"
   },
   "outputs": [],
   "source": [
    "class Encoder(nn.Module):\n",
    "    '''\n",
    "    to be passed the entire source sequence at once\n",
    "    we use padding_idx in nn.Embedding so that the padding vector does not take gradient (always zero)\n",
    "    https://pytorch.org/docs/stable/nn.html#gru\n",
    "    '''\n",
    "    def __init__(self, vocab_size, embedding_dim, hidden_dim, padding_idx):\n",
    "        super(Encoder, self).__init__()\n",
    "        self.embedding = nn.Embedding(vocab_size, embedding_dim, padding_idx)\n",
    "        self.rnn = nn.GRU(embedding_dim, hidden_dim)\n",
    "\n",
    "    def forward(self, input):\n",
    "        word_vectors = self.embedding(input) # (seq,batch,embedding_dim)\n",
    "        hs,_ = self.rnn(word_vectors) # (seq,batch,hidden_dim)\n",
    "        return hs"
   ]
  },
  {
   "cell_type": "markdown",
   "metadata": {
    "id": "gZgoCyV27q65"
   },
   "source": [
    "<h4><b>3.2. Decoder</b></h4>\n",
    "<p style=\"text-align: justify;\">\n",
    "Our decoder is a non-stacked unidirectional RNN.\n",
    "It is a neural language model conditioned not only on the previously generated target words but also on the source sentence.\n",
    "More precisely, it generates the target sentence $y=(y_1,\\dots,y_{T_y})$ one word $y_t$ at a time based on the distribution:\n",
    "\n",
    "\\begin{equation}\n",
    "P\\big[y_t|\\{y_{1},...,y_{t-1}\\},c_t\\big] = \\mathrm{softmax}\\big(W_s\\tilde{h}_t\\big)\n",
    "\\end{equation}\n",
    "\n",
    "where $\\tilde{h}_t$, the \\textit{attentional} hidden state, is computed as (biases are not shown for simplicity):\n",
    "\n",
    "\\begin{equation}\n",
    "\\tilde{h}_t = \\mathrm{tanh}\\big(W_c\\big[c_t;h_t\\big]\\big)\n",
    "\\end{equation}\n",
    "\n",
    " $h_t$ is the $t^{th}$ hidden state of the decoder, $c_t$ is the source context vector, and $\\big[;\\big]$ denotes concatenation. $W_s$ and $W_c$ are matrices of trainable parameters.\n",
    "\n",
    "$\\textbf{Note:}$ while all the inputs of the encoder (i.e., all the words of the input sentence) are known at encoding time, the decoder generates one target word at a time, and uses as input at time $t$ its prediction from time $t-1$.\n",
    "\n",
    "\n",
    "<b><h4><font color='blue'>\n",
    "<hr style=\"border:10px solid blue\"> </hr>\n",
    "Task 2: </b><br>\n",
    "Fill the gaps in the $\\texttt{forward}$ function of the $\\texttt{Decoder}$ class.\n",
    "<hr style=\"border:10px solid blue\"> </hr>\n",
    "</font></h4>"
   ]
  },
  {
   "cell_type": "code",
   "execution_count": 76,
   "metadata": {
    "id": "h7tLaq4PK90q"
   },
   "outputs": [],
   "source": [
    "class Decoder(nn.Module):\n",
    "    '''to be used one timestep at a time\n",
    "       see https://pytorch.org/docs/stable/nn.html#gru'''\n",
    "    def __init__(self, vocab_size, embedding_dim, hidden_dim, padding_idx):\n",
    "        super(Decoder, self).__init__()\n",
    "        self.embedding = nn.Embedding(vocab_size, embedding_dim, padding_idx)\n",
    "        self.rnn = nn.GRU(embedding_dim, hidden_dim)\n",
    "        self.ff_concat = nn.Linear(2*hidden_dim,hidden_dim) # W_c\n",
    "        self.predict = nn.Linear(hidden_dim, vocab_size) # W_s\n",
    "\n",
    "    def forward(self, input, source_context, h):\n",
    "        word_vector = self.embedding(input) # (1,batch,embedding_dim)\n",
    "        h,_= self.rnn(word_vector, h) # (1,batch,hidden_dim)\n",
    "\n",
    "        # tilde_h = tanh(W_c[c_t:h_t])\n",
    "        tilde_h = torch.tanh(self.ff_concat(torch.cat((source_context, h), dim=2))) # (1,batch,hidden_dim)\n",
    "\n",
    "        # prediction = W_s * h_tilde\n",
    "        prediction = self.predict(tilde_h) # (1,batch,hidden_dim) -> (1,batch,vocab_size)\n",
    "\n",
    "        return prediction, h"
   ]
  },
  {
   "cell_type": "markdown",
   "metadata": {
    "id": "0mE7IkYx8Kjl"
   },
   "source": [
    "<h4><b>3.3. Global attention mechanism</b></h4>\n",
    "<p style=\"text-align: justify;\">\n",
    "The context vector $c_t$ is computed as a weighted sum of the encoder's hidden states $\\bar{h}_i$.\n",
    "The vector of weights $\\alpha_{t}$ is obtained by applying a softmax to the output of an $\\textit{alignment}$ operation ($\\texttt{score()}$) between the current target hidden state $h_t$ and all source hidden states $\\bar{h}_{i}$'s.\n",
    "$\\alpha_{t}$ indicates which words in the source sentence are the most likely to help in predicting the next word.\n",
    "$\\texttt{score()}$ can in theory be any comparison function.\n",
    "In our implementation, we will use the $\\texttt{concat}$ attention formulation of <a href='https://arxiv.org/abs/1508.04025'>[Luong et al., 2015]</a> (see section 3.1 of the paper).\n",
    "An overview is provided in Fig. 2.  at a time, and uses as input at time $t$ its prediction from time $t-1$.\n",
    "<center>\n",
    "<img width='800px' src='https://1drv.ms/i/c/ae69638675180117/UQQXARh1hmNpIICutoQBAAAAAMg4GcKQUg3VOR8?width=1836&height=874' />\n",
    "<br>\n",
    "<b>Figure 2:</b>Summary of the $\\textit{global attention}$ mechanism <a href='https://arxiv.org/abs/1508.04025'>[Luong et al., 2015]</a> <br>\n",
    "</center>\n",
    "\n",
    "\n",
    "<b><h4><font color='blue'>\n",
    "<hr style=\"border:10px solid blue\"> </hr>\n",
    "Task 3: </b><br>\n",
    "Fill the gaps in the $\\texttt{forward}$ function of the $\\texttt{seq2seqAtt}$ class.\n",
    "<hr style=\"border:10px solid blue\"> </hr>\n",
    "</font></h4>"
   ]
  },
  {
   "cell_type": "code",
   "execution_count": 77,
   "metadata": {
    "id": "JwUAUDL4KmoM"
   },
   "outputs": [],
   "source": [
    "class seq2seqAtt(nn.Module):\n",
    "    '''\n",
    "    concat global attention a la Luong et al. 2015 (subsection 3.1)\n",
    "    https://arxiv.org/pdf/1508.04025.pdf\n",
    "    '''\n",
    "    def __init__(self, hidden_dim, hidden_dim_s, hidden_dim_t):\n",
    "        super(seq2seqAtt, self).__init__()\n",
    "        self.ff_concat = nn.Linear(hidden_dim_s+hidden_dim_t,hidden_dim)\n",
    "        self.ff_score = nn.Linear(hidden_dim,1,bias=False) # just a dot product here\n",
    "\n",
    "    def forward(self,target_h,source_hs):\n",
    "        target_h_rep = target_h.repeat(source_hs.size(0),1,1) # (1,batch,hidden_dim_t) -> (seq,batch,hidden_dim_t)\n",
    "        concat_output = self.ff_concat(torch.cat((target_h_rep, source_hs), dim=2)) # source_hs is (seq,batch,hidden_dim_s)\n",
    "        scores = self.ff_score(torch.tanh(concat_output)) # (seq,batch,hidden_dim_s) -> (seq,batch,1)\n",
    "        scores = scores.squeeze(dim=2) # (seq,batch,1) -> (seq,batch). dim=2 because we don't want to squeeze the batch dim if batch size = 1\n",
    "        norm_scores = torch.softmax(scores, 0) # attention weights\n",
    "        source_hs_p = source_hs.permute((2,0,1)) # (seq,batch,hidden_dim_s) -> (hidden_dim_s,seq,batch)\n",
    "        weighted_source_hs = (norm_scores * source_hs_p) # (seq,batch) * (hidden_dim_s,seq,batch) (* checks from right to left that the dimensions match)\n",
    "        ct = torch.sum(weighted_source_hs.permute((1,2,0)),0,keepdim=True) # (hidden_dim_s,seq,batch) -> (seq,batch,hidden_dim_s) -> (1,batch,hidden_dim_s); keepdim otherwise sum squeezes\n",
    "        return ct, norm_scores.squeeze(1)"
   ]
  },
  {
   "cell_type": "markdown",
   "metadata": {
    "id": "nLurQq5qABAz"
   },
   "source": [
    "<h3><b>4. Training and Evaluation:</b></h3>\n",
    "<p style=\"text-align: justify;\">\n",
    "\n",
    "<b><h4><font color='blue'>\n",
    "<hr style=\"border:10px solid blue\"> </hr>\n",
    "Task 4: </b><br>\n",
    "Fill the gaps in the $\\texttt{forward}$ function of the $\\texttt{seq2seqModel}$ class.\n",
    "<hr style=\"border:10px solid blue\"> </hr>\n",
    "</font></h4>"
   ]
  },
  {
   "cell_type": "code",
   "execution_count": 78,
   "metadata": {
    "id": "FYX0K3dNK-c9"
   },
   "outputs": [],
   "source": [
    "class seq2seqModel(nn.Module):\n",
    "    '''the full seq2seq model'''\n",
    "    ARGS = ['vocab_s','source_language','vocab_t_inv','embedding_dim_s','embedding_dim_t',\n",
    "     'hidden_dim_s','hidden_dim_t','hidden_dim_att','do_att','padding_token',\n",
    "     'oov_token','sos_token','eos_token','max_size']\n",
    "    def __init__(self, vocab_s, source_language, vocab_t_inv, embedding_dim_s, embedding_dim_t,\n",
    "                 hidden_dim_s, hidden_dim_t, hidden_dim_att, do_att, padding_token,\n",
    "                 oov_token, sos_token, eos_token, max_size):\n",
    "        super(seq2seqModel, self).__init__()\n",
    "        self.vocab_s = vocab_s\n",
    "        self.source_language = source_language\n",
    "        self.vocab_t_inv = vocab_t_inv\n",
    "        self.embedding_dim_s = embedding_dim_s\n",
    "        self.embedding_dim_t = embedding_dim_t\n",
    "        self.hidden_dim_s = hidden_dim_s\n",
    "        self.hidden_dim_t = hidden_dim_t\n",
    "        self.hidden_dim_att = hidden_dim_att\n",
    "        self.do_att = do_att # should attention be used?\n",
    "        self.padding_token = padding_token\n",
    "        self.oov_token = oov_token\n",
    "        self.sos_token = sos_token\n",
    "        self.eos_token = eos_token\n",
    "        self.max_size = max_size\n",
    "\n",
    "        self.max_source_idx = max(list(vocab_s.values()))\n",
    "        self.max_target_idx = max([int(elt) for elt in list(vocab_t_inv.keys())])\n",
    "        print('max target index',self.max_target_idx)\n",
    "        print('target vocab size',len(vocab_t_inv))\n",
    "\n",
    "        if torch.backends.mps.is_available():\n",
    "            self.device = torch.device(\"mps\")\n",
    "        elif torch.cuda.is_available():\n",
    "            self.device = torch.device(\"cuda\")\n",
    "        else:\n",
    "            self.device = torch.device(\"cpu\")\n",
    "\n",
    "        self.encoder = Encoder(self.max_source_idx+1,self.embedding_dim_s,self.hidden_dim_s,self.padding_token).to(self.device)\n",
    "        self.decoder = Decoder(self.max_target_idx+1,self.embedding_dim_t,self.hidden_dim_t,self.padding_token).to(self.device)\n",
    "\n",
    "        if self.do_att:\n",
    "            self.att_mech = seq2seqAtt(self.hidden_dim_att,self.hidden_dim_s,self.hidden_dim_t).to(self.device)\n",
    "\n",
    "    def my_pad(self,my_list):\n",
    "        '''my_list is a list of tuples of the form [(tensor_s_1,tensor_t_1),...,(tensor_s_batch,tensor_t_batch)]\n",
    "        the <eos> token is appended to each sequence before padding\n",
    "        https://pytorch.org/docs/stable/nn.html#torch.nn.utils.rnn.pad_sequence'''\n",
    "        batch_source = pad_sequence([torch.cat((elt[0],torch.LongTensor([self.eos_token]))) for elt in my_list],batch_first=True,padding_value=self.padding_token)\n",
    "        batch_target = pad_sequence([torch.cat((elt[1],torch.LongTensor([self.eos_token]))) for elt in my_list],batch_first=True,padding_value=self.padding_token)\n",
    "        return batch_source,batch_target\n",
    "\n",
    "    def forward(self,input,max_size,is_prod):\n",
    "\n",
    "        if is_prod:\n",
    "            input = input.unsqueeze(1) # (seq) -> (seq,1) 1D input <=> we receive just one sentence as input (predict/production mode)\n",
    "\n",
    "        current_batch_size = input.size(1)\n",
    "\n",
    "        # use the encoder\n",
    "        # (seq,batch)/(seq,1) -> (seq,batch,feat)/(seq,1,feat)\n",
    "        source_hs =  self.encoder.forward(input)\n",
    "\n",
    "        # = = = decoder part (one timestep at a time)  = = =\n",
    "\n",
    "        target_h = torch.zeros(size=(1,current_batch_size,self.hidden_dim_t)).to(self.device) # init (1,batch,hidden_dim_t)\n",
    "\n",
    "        # (initialize target_input with the proper token)\n",
    "        # A sentence starts with the <SOS> token.\n",
    "        target_input = torch.LongTensor([self.sos_token]).repeat(current_batch_size).unsqueeze(0).to(self.device) # init (1,batch)\n",
    "\n",
    "        pos = 0\n",
    "        eos_counter = 0\n",
    "        logits = []\n",
    "        weights = []\n",
    "\n",
    "        while True:\n",
    "\n",
    "            if self.do_att:\n",
    "                source_context = self.att_mech(target_h,source_hs) # (1,batch,feat)\n",
    "                weights.append(source_context[1].tolist()) # attention weights\n",
    "                source_context = source_context[0]\n",
    "            else:\n",
    "                source_context = source_hs[-1,:,:].unsqueeze(0) # (1,batch,feat) last hidden state of encoder\n",
    "\n",
    "            # use the decoder\n",
    "\n",
    "            prediction, target_h = self.decoder.forward(target_input,source_context,target_h)\n",
    "\n",
    "            logits.append(prediction) # (1,batch,vocab)\n",
    "\n",
    "            # fill the gap #\n",
    "            # get the next input to pass the decoder\n",
    "            target_input = prediction.argmax(dim=2)\n",
    "\n",
    "            eos_counter += torch.sum(target_input==self.eos_token).item()\n",
    "\n",
    "            pos += 1\n",
    "            if pos>=max_size or (eos_counter == current_batch_size and is_prod):\n",
    "                break\n",
    "\n",
    "        to_return = torch.cat(logits,0) # logits is a list of tensors -> (seq,batch,vocab)\n",
    "\n",
    "        if is_prod:\n",
    "            to_return = to_return.squeeze(dim=1) # (seq,vocab)\n",
    "\n",
    "        return to_return, weights\n",
    "\n",
    "    def fit(self, trainingDataset, testDataset, lr, batch_size, n_epochs, patience):\n",
    "\n",
    "        parameters = [p for p in self.parameters() if p.requires_grad]\n",
    "\n",
    "        optimizer = optim.Adam(parameters, lr=lr)\n",
    "\n",
    "        criterion = torch.nn.CrossEntropyLoss(ignore_index=self.padding_token) # the softmax is inside the loss!\n",
    "\n",
    "        # https://pytorch.org/docs/stable/data.html#torch.utils.data.DataLoader\n",
    "        # we pass a collate function to perform padding on the fly, within each batch\n",
    "        # this is better than truncation/padding at the dataset level\n",
    "        train_loader = data.DataLoader(trainingDataset, batch_size=batch_size,\n",
    "                                       shuffle=True, collate_fn=self.my_pad) # returns (batch,seq)\n",
    "\n",
    "        test_loader = data.DataLoader(testDataset, batch_size=512,\n",
    "                                      collate_fn=self.my_pad)\n",
    "\n",
    "        tdqm_dict_keys = ['loss', 'test loss']\n",
    "        tdqm_dict = dict(zip(tdqm_dict_keys,[0.0,0.0]))\n",
    "\n",
    "        patience_counter = 1\n",
    "        patience_loss = 99999\n",
    "\n",
    "        for epoch in range(n_epochs):\n",
    "\n",
    "            with tqdm(total=len(train_loader),unit_scale=True,postfix={'loss':0.0,'test loss':0.0},\n",
    "                      desc=\"Epoch : %i/%i\" % (epoch, n_epochs-1),ncols=100) as pbar:\n",
    "                for loader_idx, loader in enumerate([train_loader, test_loader]):\n",
    "                    total_loss = 0\n",
    "                    # set model mode (https://stackoverflow.com/questions/51433378/what-does-model-train-do-in-pytorch)\n",
    "                    if loader_idx == 0:\n",
    "                        self.train()\n",
    "                    else:\n",
    "                        self.eval()\n",
    "                    for i, (batch_source,batch_target) in enumerate(loader):\n",
    "                        batch_source = batch_source.transpose(1,0).to(self.device) # RNN needs (seq,batch,feat) but loader returns (batch,seq)\n",
    "                        batch_target = batch_target.transpose(1,0).to(self.device) # (seq,batch)\n",
    "\n",
    "                        # are we using the model in production / as an API?\n",
    "                        is_prod = len(batch_source.shape)==1 # if False, 2D input (seq,batch), i.e., train or test\n",
    "\n",
    "                        if is_prod:\n",
    "                            max_size = self.max_size\n",
    "                            self.eval()\n",
    "                        else:\n",
    "                            max_size = batch_target.size(0) # no need to continue generating after we've exceeded the length of the longest ground truth sequence\n",
    "\n",
    "                        unnormalized_logits = self.forward(batch_source,max_size,is_prod)[0]\n",
    "\n",
    "                        sentence_loss = criterion(unnormalized_logits.flatten(end_dim=1),batch_target.flatten())\n",
    "\n",
    "                        total_loss += sentence_loss.item()\n",
    "\n",
    "                        tdqm_dict[tdqm_dict_keys[loader_idx]] = total_loss/(i+1)\n",
    "\n",
    "                        pbar.set_postfix(tdqm_dict)\n",
    "\n",
    "                        if loader_idx == 0:\n",
    "                            optimizer.zero_grad() # flush gradient attributes\n",
    "                            sentence_loss.backward() # compute gradients\n",
    "                            optimizer.step() # update\n",
    "                            pbar.update(1)\n",
    "\n",
    "            if total_loss > patience_loss:\n",
    "                patience_counter += 1\n",
    "            else:\n",
    "                patience_loss = total_loss\n",
    "                patience_counter = 1 # reset\n",
    "\n",
    "            if patience_counter>patience:\n",
    "                break\n",
    "\n",
    "    def sourceNl_to_ints(self,source_nl):\n",
    "        '''converts natural language source sentence into source integers'''\n",
    "        source_nl_clean = source_nl.lower().replace(\"'\",' ').replace('-',' ')\n",
    "        source_nl_clean_tok = word_tokenize(source_nl_clean,self.source_language)\n",
    "        source_ints = [int(self.vocab_s[elt]) if elt in self.vocab_s else \\\n",
    "                       self.oov_token for elt in source_nl_clean_tok]\n",
    "\n",
    "        source_ints = torch.LongTensor(source_ints).to(self.device)\n",
    "        return source_ints\n",
    "\n",
    "    def targetInts_to_nl(self,target_ints):\n",
    "        '''converts integer target sentence into target natural language'''\n",
    "        return ['<PAD>' if elt==self.padding_token else '<OOV>' if elt==self.oov_token \\\n",
    "                else '<EOS>' if elt==self.eos_token else '<SOS>' if elt==self.sos_token\\\n",
    "                else self.vocab_t_inv[elt] for elt in target_ints]\n",
    "\n",
    "    def predict(self,source_nl):\n",
    "        source_ints = self.sourceNl_to_ints(source_nl)\n",
    "        logits = self.forward(source_ints,self.max_size,True) # (seq) -> (<=max_size,vocab)\n",
    "        target_ints = logits[0].argmax(-1).squeeze() # (<=max_size,1) -> (<=max_size)\n",
    "        target_nl = self.targetInts_to_nl(target_ints.tolist())\n",
    "        return ' '.join(target_nl), logits[1]\n",
    "\n",
    "    def save(self,path_to_file):\n",
    "        attrs = {attr:getattr(self,attr) for attr in self.ARGS}\n",
    "        attrs['state_dict'] = self.state_dict()\n",
    "        torch.save(attrs,path_to_file)\n",
    "\n",
    "    @classmethod # a class method does not see the inside of the class (a static method does not take self as first argument)\n",
    "    def load(cls,path_to_file):\n",
    "        attrs = torch.load(path_to_file, map_location=lambda storage, loc: storage) # allows loading on CPU a model trained on GPU, see https://discuss.pytorch.org/t/on-a-cpu-device-how-to-load-checkpoint-saved-on-gpu-device/349/6\n",
    "        state_dict = attrs.pop('state_dict')\n",
    "        new = cls(**attrs) # * list and ** names (dict) see args and kwargs\n",
    "        new.load_state_dict(state_dict)\n",
    "        return new"
   ]
  },
  {
   "cell_type": "markdown",
   "metadata": {
    "id": "md-HH53wAq3S"
   },
   "source": [
    "### Download the data and the pretrained model:"
   ]
  },
  {
   "cell_type": "code",
   "execution_count": 7,
   "metadata": {
    "colab": {
     "base_uri": "https://localhost:8080/"
    },
    "id": "datl5SFtJ9Br",
    "outputId": "aa9240f4-b855-408b-c061-d9e2f3350387"
   },
   "outputs": [
    {
     "name": "stdout",
     "output_type": "stream",
     "text": [
      "Archive:  data.zip\n",
      "replace __MACOSX/._data? [y]es, [n]o, [A]ll, [N]one, [r]ename: n\n",
      "replace data/pairs_train_ints.txt? [y]es, [n]o, [A]ll, [N]one, [r]ename: n\n",
      "replace __MACOSX/data/._pairs_train_ints.txt? [y]es, [n]o, [A]ll, [N]one, [r]ename: n\n",
      "replace data/pairs_test_ints.txt? [y]es, [n]o, [A]ll, [N]one, [r]ename: n\n",
      "replace __MACOSX/data/._pairs_test_ints.txt? [y]es, [n]o, [A]ll, [N]one, [r]ename: n\n",
      "replace data/README.txt? [y]es, [n]o, [A]ll, [N]one, [r]ename: n\n",
      "replace __MACOSX/data/._README.txt? [y]es, [n]o, [A]ll, [N]one, [r]ename: n\n",
      "replace data/vocab_target.json? [y]es, [n]o, [A]ll, [N]one, [r]ename: n\n",
      "replace __MACOSX/data/._vocab_target.json? [y]es, [n]o, [A]ll, [N]one, [r]ename: n\n",
      "replace data/vocab_source.json? [y]es, [n]o, [A]ll, [N]one, [r]ename: n\n",
      "replace __MACOSX/data/._vocab_source.json? [y]es, [n]o, [A]ll, [N]one, [r]ename: n\n"
     ]
    }
   ],
   "source": [
    "import urllib\n",
    "\n",
    "urllib.request.urlretrieve(\"https://nuage.lix.polytechnique.fr/public.php/dav/files/FLttXTmeFSDNx7H\", \"data.zip\")\n",
    "urllib.request.urlretrieve(\"https://nuage.lix.polytechnique.fr/public.php/dav/files/6btZHdtYnyAAH3x\", \"pretrained_moodle.pt\")\n",
    "!unzip data.zip"
   ]
  },
  {
   "cell_type": "code",
   "execution_count": 7,
   "metadata": {
    "id": "w4q_kHWU3ze2"
   },
   "outputs": [],
   "source": [
    "path_to_data = './data/'\n",
    "path_to_save_models = './'"
   ]
  },
  {
   "cell_type": "markdown",
   "metadata": {
    "id": "AmBgproQAv8_"
   },
   "source": [
    "### Define the dataloader:"
   ]
  },
  {
   "cell_type": "code",
   "execution_count": 79,
   "metadata": {
    "id": "wZCiFl61LPQj"
   },
   "outputs": [],
   "source": [
    "class Dataset(data.Dataset):\n",
    "  def __init__(self, pairs):\n",
    "        self.pairs = pairs\n",
    "\n",
    "  def __len__(self):\n",
    "        return len(self.pairs) # total nb of observations\n",
    "\n",
    "  def __getitem__(self, idx):\n",
    "        source, target = self.pairs[idx] # one observation\n",
    "        return torch.LongTensor(source), torch.LongTensor(target)\n",
    "\n",
    "def load_pairs(train_or_test):\n",
    "    with open(path_to_data + 'pairs_' + train_or_test + '_ints.txt', 'r', encoding='utf-8') as file:\n",
    "        pairs_tmp = file.read().splitlines()\n",
    "    pairs_tmp = [elt.split('\\t') for elt in pairs_tmp]\n",
    "    pairs_tmp = [[[int(eltt) for eltt in elt[0].split()],[int(eltt) for eltt in \\\n",
    "                  elt[1].split()]] for elt in pairs_tmp]\n",
    "    return pairs_tmp"
   ]
  },
  {
   "cell_type": "markdown",
   "metadata": {
    "id": "a1yDxMlvA1yH"
   },
   "source": [
    "<b><h4><font color='blue'>\n",
    "<hr style=\"border:10px solid blue\"> </hr>\n",
    "Task 5: </b><br>\n",
    "Check that your implementation is correct by running $\\texttt{the following cell}$ for a few epochs and verifying that the loss decreases.\n",
    "<hr style=\"border:10px solid blue\"> </hr>\n",
    "</font></h4>"
   ]
  },
  {
   "cell_type": "code",
   "execution_count": 75,
   "metadata": {
    "colab": {
     "base_uri": "https://localhost:8080/",
     "height": 1000
    },
    "id": "kSZ-cvSuLQVt",
    "outputId": "ddab8c86-6413-4cdb-a862-7319077aa9f8"
   },
   "outputs": [
    {
     "name": "stdout",
     "output_type": "stream",
     "text": [
      "data loaded\n",
      "data prepared\n",
      "= = = attention-based model?: True = = =\n",
      "max target index 7459\n",
      "target vocab size 7456\n"
     ]
    },
    {
     "name": "stderr",
     "output_type": "stream",
     "text": [
      "Epoch : 0/19:   4%|▊                    | 79.0/2.13k [00:06<02:44, 12.5it/s, loss=7.54, test loss=0]\n"
     ]
    },
    {
     "ename": "KeyboardInterrupt",
     "evalue": "",
     "output_type": "error",
     "traceback": [
      "\u001b[0;31m---------------------------------------------------------------------------\u001b[0m",
      "\u001b[0;31mKeyboardInterrupt\u001b[0m                         Traceback (most recent call last)",
      "Cell \u001b[0;32mIn[75], line 41\u001b[0m\n\u001b[1;32m     24\u001b[0m \u001b[38;5;28mprint\u001b[39m(\u001b[38;5;124m'\u001b[39m\u001b[38;5;124m= = = attention-based model?:\u001b[39m\u001b[38;5;124m'\u001b[39m,\u001b[38;5;28mstr\u001b[39m(do_att),\u001b[38;5;124m'\u001b[39m\u001b[38;5;124m= = =\u001b[39m\u001b[38;5;124m'\u001b[39m)\n\u001b[1;32m     26\u001b[0m model \u001b[38;5;241m=\u001b[39m seq2seqModel(vocab_s\u001b[38;5;241m=\u001b[39mvocab_source,\n\u001b[1;32m     27\u001b[0m                       source_language\u001b[38;5;241m=\u001b[39m\u001b[38;5;124m'\u001b[39m\u001b[38;5;124menglish\u001b[39m\u001b[38;5;124m'\u001b[39m,\n\u001b[1;32m     28\u001b[0m                       vocab_t_inv\u001b[38;5;241m=\u001b[39mvocab_target_inv,\n\u001b[0;32m   (...)\u001b[0m\n\u001b[1;32m     38\u001b[0m                       eos_token\u001b[38;5;241m=\u001b[39m\u001b[38;5;241m3\u001b[39m,\n\u001b[1;32m     39\u001b[0m                       max_size\u001b[38;5;241m=\u001b[39m\u001b[38;5;241m30\u001b[39m)\u001b[38;5;241m.\u001b[39mto(device) \u001b[38;5;66;03m# max size of generated sentence in prediction mode\u001b[39;00m\n\u001b[0;32m---> 41\u001b[0m \u001b[43mmodel\u001b[49m\u001b[38;5;241;43m.\u001b[39;49m\u001b[43mfit\u001b[49m\u001b[43m(\u001b[49m\u001b[43mtraining_set\u001b[49m\u001b[43m,\u001b[49m\u001b[43mtest_set\u001b[49m\u001b[43m,\u001b[49m\u001b[43mlr\u001b[49m\u001b[38;5;241;43m=\u001b[39;49m\u001b[38;5;241;43m0.001\u001b[39;49m\u001b[43m,\u001b[49m\u001b[43mbatch_size\u001b[49m\u001b[38;5;241;43m=\u001b[39;49m\u001b[38;5;241;43m64\u001b[39;49m\u001b[43m,\u001b[49m\u001b[43mn_epochs\u001b[49m\u001b[38;5;241;43m=\u001b[39;49m\u001b[38;5;241;43m20\u001b[39;49m\u001b[43m,\u001b[49m\u001b[43mpatience\u001b[49m\u001b[38;5;241;43m=\u001b[39;49m\u001b[38;5;241;43m2\u001b[39;49m\u001b[43m)\u001b[49m\n\u001b[1;32m     42\u001b[0m model\u001b[38;5;241m.\u001b[39msave(path_to_save_models \u001b[38;5;241m+\u001b[39m \u001b[38;5;124m'\u001b[39m\u001b[38;5;124mmy_model.pt\u001b[39m\u001b[38;5;124m'\u001b[39m)\n",
      "Cell \u001b[0;32mIn[10], line 166\u001b[0m, in \u001b[0;36mseq2seqModel.fit\u001b[0;34m(self, trainingDataset, testDataset, lr, batch_size, n_epochs, patience)\u001b[0m\n\u001b[1;32m    164\u001b[0m \u001b[38;5;28;01mif\u001b[39;00m loader_idx \u001b[38;5;241m==\u001b[39m \u001b[38;5;241m0\u001b[39m:\n\u001b[1;32m    165\u001b[0m     optimizer\u001b[38;5;241m.\u001b[39mzero_grad() \u001b[38;5;66;03m# flush gradient attributes\u001b[39;00m\n\u001b[0;32m--> 166\u001b[0m     \u001b[43msentence_loss\u001b[49m\u001b[38;5;241;43m.\u001b[39;49m\u001b[43mbackward\u001b[49m\u001b[43m(\u001b[49m\u001b[43m)\u001b[49m \u001b[38;5;66;03m# compute gradients\u001b[39;00m\n\u001b[1;32m    167\u001b[0m     optimizer\u001b[38;5;241m.\u001b[39mstep() \u001b[38;5;66;03m# update\u001b[39;00m\n\u001b[1;32m    168\u001b[0m     pbar\u001b[38;5;241m.\u001b[39mupdate(\u001b[38;5;241m1\u001b[39m)\n",
      "File \u001b[0;32m~/mva/altegrad/.pixi/envs/default/lib/python3.8/site-packages/torch/_tensor.py:521\u001b[0m, in \u001b[0;36mTensor.backward\u001b[0;34m(self, gradient, retain_graph, create_graph, inputs)\u001b[0m\n\u001b[1;32m    511\u001b[0m \u001b[38;5;28;01mif\u001b[39;00m has_torch_function_unary(\u001b[38;5;28mself\u001b[39m):\n\u001b[1;32m    512\u001b[0m     \u001b[38;5;28;01mreturn\u001b[39;00m handle_torch_function(\n\u001b[1;32m    513\u001b[0m         Tensor\u001b[38;5;241m.\u001b[39mbackward,\n\u001b[1;32m    514\u001b[0m         (\u001b[38;5;28mself\u001b[39m,),\n\u001b[0;32m   (...)\u001b[0m\n\u001b[1;32m    519\u001b[0m         inputs\u001b[38;5;241m=\u001b[39minputs,\n\u001b[1;32m    520\u001b[0m     )\n\u001b[0;32m--> 521\u001b[0m \u001b[43mtorch\u001b[49m\u001b[38;5;241;43m.\u001b[39;49m\u001b[43mautograd\u001b[49m\u001b[38;5;241;43m.\u001b[39;49m\u001b[43mbackward\u001b[49m\u001b[43m(\u001b[49m\n\u001b[1;32m    522\u001b[0m \u001b[43m    \u001b[49m\u001b[38;5;28;43mself\u001b[39;49m\u001b[43m,\u001b[49m\u001b[43m \u001b[49m\u001b[43mgradient\u001b[49m\u001b[43m,\u001b[49m\u001b[43m \u001b[49m\u001b[43mretain_graph\u001b[49m\u001b[43m,\u001b[49m\u001b[43m \u001b[49m\u001b[43mcreate_graph\u001b[49m\u001b[43m,\u001b[49m\u001b[43m \u001b[49m\u001b[43minputs\u001b[49m\u001b[38;5;241;43m=\u001b[39;49m\u001b[43minputs\u001b[49m\n\u001b[1;32m    523\u001b[0m \u001b[43m\u001b[49m\u001b[43m)\u001b[49m\n",
      "File \u001b[0;32m~/mva/altegrad/.pixi/envs/default/lib/python3.8/site-packages/torch/autograd/__init__.py:289\u001b[0m, in \u001b[0;36mbackward\u001b[0;34m(tensors, grad_tensors, retain_graph, create_graph, grad_variables, inputs)\u001b[0m\n\u001b[1;32m    284\u001b[0m     retain_graph \u001b[38;5;241m=\u001b[39m create_graph\n\u001b[1;32m    286\u001b[0m \u001b[38;5;66;03m# The reason we repeat the same comment below is that\u001b[39;00m\n\u001b[1;32m    287\u001b[0m \u001b[38;5;66;03m# some Python versions print out the first line of a multi-line function\u001b[39;00m\n\u001b[1;32m    288\u001b[0m \u001b[38;5;66;03m# calls in the traceback and some print out the last line\u001b[39;00m\n\u001b[0;32m--> 289\u001b[0m \u001b[43m_engine_run_backward\u001b[49m\u001b[43m(\u001b[49m\n\u001b[1;32m    290\u001b[0m \u001b[43m    \u001b[49m\u001b[43mtensors\u001b[49m\u001b[43m,\u001b[49m\n\u001b[1;32m    291\u001b[0m \u001b[43m    \u001b[49m\u001b[43mgrad_tensors_\u001b[49m\u001b[43m,\u001b[49m\n\u001b[1;32m    292\u001b[0m \u001b[43m    \u001b[49m\u001b[43mretain_graph\u001b[49m\u001b[43m,\u001b[49m\n\u001b[1;32m    293\u001b[0m \u001b[43m    \u001b[49m\u001b[43mcreate_graph\u001b[49m\u001b[43m,\u001b[49m\n\u001b[1;32m    294\u001b[0m \u001b[43m    \u001b[49m\u001b[43minputs\u001b[49m\u001b[43m,\u001b[49m\n\u001b[1;32m    295\u001b[0m \u001b[43m    \u001b[49m\u001b[43mallow_unreachable\u001b[49m\u001b[38;5;241;43m=\u001b[39;49m\u001b[38;5;28;43;01mTrue\u001b[39;49;00m\u001b[43m,\u001b[49m\n\u001b[1;32m    296\u001b[0m \u001b[43m    \u001b[49m\u001b[43maccumulate_grad\u001b[49m\u001b[38;5;241;43m=\u001b[39;49m\u001b[38;5;28;43;01mTrue\u001b[39;49;00m\u001b[43m,\u001b[49m\n\u001b[1;32m    297\u001b[0m \u001b[43m\u001b[49m\u001b[43m)\u001b[49m\n",
      "File \u001b[0;32m~/mva/altegrad/.pixi/envs/default/lib/python3.8/site-packages/torch/autograd/graph.py:768\u001b[0m, in \u001b[0;36m_engine_run_backward\u001b[0;34m(t_outputs, *args, **kwargs)\u001b[0m\n\u001b[1;32m    766\u001b[0m     unregister_hooks \u001b[38;5;241m=\u001b[39m _register_logging_hooks_on_whole_graph(t_outputs)\n\u001b[1;32m    767\u001b[0m \u001b[38;5;28;01mtry\u001b[39;00m:\n\u001b[0;32m--> 768\u001b[0m     \u001b[38;5;28;01mreturn\u001b[39;00m \u001b[43mVariable\u001b[49m\u001b[38;5;241;43m.\u001b[39;49m\u001b[43m_execution_engine\u001b[49m\u001b[38;5;241;43m.\u001b[39;49m\u001b[43mrun_backward\u001b[49m\u001b[43m(\u001b[49m\u001b[43m  \u001b[49m\u001b[38;5;66;43;03m# Calls into the C++ engine to run the backward pass\u001b[39;49;00m\n\u001b[1;32m    769\u001b[0m \u001b[43m        \u001b[49m\u001b[43mt_outputs\u001b[49m\u001b[43m,\u001b[49m\u001b[43m \u001b[49m\u001b[38;5;241;43m*\u001b[39;49m\u001b[43margs\u001b[49m\u001b[43m,\u001b[49m\u001b[43m \u001b[49m\u001b[38;5;241;43m*\u001b[39;49m\u001b[38;5;241;43m*\u001b[39;49m\u001b[43mkwargs\u001b[49m\n\u001b[1;32m    770\u001b[0m \u001b[43m    \u001b[49m\u001b[43m)\u001b[49m  \u001b[38;5;66;03m# Calls into the C++ engine to run the backward pass\u001b[39;00m\n\u001b[1;32m    771\u001b[0m \u001b[38;5;28;01mfinally\u001b[39;00m:\n\u001b[1;32m    772\u001b[0m     \u001b[38;5;28;01mif\u001b[39;00m attach_logging_hooks:\n",
      "\u001b[0;31mKeyboardInterrupt\u001b[0m: "
     ]
    }
   ],
   "source": [
    "do_att = True # should always be set to True\n",
    "\n",
    "if torch.backends.mps.is_available():\n",
    "    device = torch.device(\"mps\")\n",
    "elif torch.cuda.is_available():\n",
    "    device = torch.device(\"cuda\")\n",
    "else:\n",
    "    device = torch.device(\"cpu\")\n",
    "\n",
    "pairs_train = load_pairs('train')\n",
    "pairs_test = load_pairs('test')\n",
    "\n",
    "with open(path_to_data + 'vocab_source.json','r') as file:\n",
    "    vocab_source = json.load(file) # word -> index\n",
    "\n",
    "with open(path_to_data + 'vocab_target.json','r') as file:\n",
    "    vocab_target = json.load(file) # word -> index\n",
    "\n",
    "vocab_target_inv = {v:k for k,v in vocab_target.items()} # index -> word\n",
    "print('data loaded')\n",
    "training_set = Dataset(pairs_train)\n",
    "test_set = Dataset(pairs_test)\n",
    "print('data prepared')\n",
    "print('= = = attention-based model?:',str(do_att),'= = =')\n",
    "\n",
    "model = seq2seqModel(vocab_s=vocab_source,\n",
    "                      source_language='english',\n",
    "                      vocab_t_inv=vocab_target_inv,\n",
    "                      embedding_dim_s=40,\n",
    "                      embedding_dim_t=40,\n",
    "                      hidden_dim_s=30,\n",
    "                      hidden_dim_t=30,\n",
    "                      hidden_dim_att=20,\n",
    "                      do_att=do_att,\n",
    "                      padding_token=0,\n",
    "                      oov_token=1,\n",
    "                      sos_token=2,\n",
    "                      eos_token=3,\n",
    "                      max_size=30).to(device) # max size of generated sentence in prediction mode\n",
    "\n",
    "model.fit(training_set,test_set,lr=0.001,batch_size=64,n_epochs=20,patience=2)\n",
    "model.save(path_to_save_models + 'my_model.pt')\n"
   ]
  },
  {
   "cell_type": "markdown",
   "metadata": {
    "id": "WjzknQ0EBTIF"
   },
   "source": [
    "<b><h4><font color='blue'>\n",
    "<hr style=\"border:10px solid blue\"> </hr>\n",
    "Task 6: </b><br>\n",
    "Run the following cell using the pre-trained weights.\n",
    "<hr style=\"border:10px solid blue\"> </hr>\n",
    "</font></h4>"
   ]
  },
  {
   "cell_type": "code",
   "execution_count": 80,
   "metadata": {
    "id": "FwUInZMyQzci"
   },
   "outputs": [
    {
     "name": "stderr",
     "output_type": "stream",
     "text": [
      "/var/folders/65/62xm38vn2dxcc3m_x3546mbm0000gn/T/ipykernel_51736/3544795587.py:209: FutureWarning: You are using `torch.load` with `weights_only=False` (the current default value), which uses the default pickle module implicitly. It is possible to construct malicious pickle data which will execute arbitrary code during unpickling (See https://github.com/pytorch/pytorch/blob/main/SECURITY.md#untrusted-models for more details). In a future release, the default value for `weights_only` will be flipped to `True`. This limits the functions that could be executed during unpickling. Arbitrary objects will no longer be allowed to be loaded via this mode unless they are explicitly allowlisted by the user via `torch.serialization.add_safe_globals`. We recommend you start setting `weights_only=True` for any use case where you don't have full control of the loaded file. Please open an issue on GitHub for any issues related to this experimental feature.\n",
      "  attrs = torch.load(path_to_file, map_location=lambda storage, loc: storage) # allows loading on CPU a model trained on GPU, see https://discuss.pytorch.org/t/on-a-cpu-device-how-to-load-checkpoint-saved-on-gpu-device/349/6\n"
     ]
    },
    {
     "name": "stdout",
     "output_type": "stream",
     "text": [
      "max target index 7459\n",
      "target vocab size 7456\n",
      "= = = = = \n",
      " I am a student. -> je suis étudiant . . . . . . . . . . . . . . . . . . . . . . . . . . .\n",
      "= = = = = \n",
      " I have a red car. -> j ai une voiture rouge . . . . . . . . . . . . . . . . . . . . . . . . .\n",
      "= = = = = \n",
      " I love playing video games. -> j adore jouer à jeux jeux jeux vidéo . . . . . . . . . . . . . . . . . . . . . .\n",
      "= = = = = \n",
      " This river is full of fish. -> cette rivière est pleine de poisson . . . . . . . . . . . . . . . . . . . . . . . .\n",
      "= = = = = \n",
      " The fridge is full of food. -> le frigo est plein de nourriture . . . . . . . . . . . . . . . . . . . . . . . .\n",
      "= = = = = \n",
      " The cat fell asleep on the mat. -> le chat s est endormi sur le tapis . . . . . . . . . . . . . . . . . . . . . .\n",
      "= = = = = \n",
      " my brother likes pizza. -> mon frère aime la pizza . . . . . . . . . . . . . . . . . . . . . . . . .\n",
      "= = = = = \n",
      " I did not mean to hurt you -> je n ai pas voulu intention de blesser blesser blesser blesser blesser blesser . blesser . blesser . . . . . . . . . . . . .\n",
      "= = = = = \n",
      " She is so mean -> elle est tellement méchant méchant . <EOS>\n",
      "= = = = = \n",
      " Help me pick out a tie to go with this suit! -> aidez moi à chercher une cravate pour aller avec ceci ! ! ! ! ! ! ! ! ! ! ! ! ! ! <EOS>\n",
      "= = = = = \n",
      " I can't help but smoking weed -> je ne peux pas empêcher de de fumer fumer fumer fumer fumer fumer fumer fumer fumer fumer urgence urgence urgence urgence urgence urgence . urgence urgence . urgence urgence .\n",
      "= = = = = \n",
      " The kids were playing hide and seek -> les enfants jouent cache cache cache cache caché caché caché caché caché caché caché caché caché caché caché caché caché caché caché dentifrice perdre caché risques rapide caché risques éveillés\n",
      "= = = = = \n",
      " The cat fell asleep in front of the fireplace -> le chat s est en du du pression peigne peigne cheminée portail portail portail portail portail portail portail portail indépendant oiseaux oiseaux oiseaux oiseaux oiseaux oiseaux oiseaux oiseaux oiseaux oiseaux\n"
     ]
    }
   ],
   "source": [
    "model = seq2seqModel.load(path_to_save_models + 'pretrained_moodle.pt')\n",
    "to_test = ['I am a student.',\n",
    "            'I have a red car.',  # inversion captured\n",
    "            'I love playing video games.',\n",
    "            'This river is full of fish.', # plein vs pleine (accord)\n",
    "            'The fridge is full of food.',\n",
    "            'The cat fell asleep on the mat.',\n",
    "            'my brother likes pizza.', # pizza is translated to 'la pizza'\n",
    "            'I did not mean to hurt you', # translation of mean in context\n",
    "            'She is so mean',\n",
    "            'Help me pick out a tie to go with this suit!', # right translation\n",
    "            \"I can't help but smoking weed\", # this one and below: hallucination\n",
    "            'The kids were playing hide and seek',\n",
    "            'The cat fell asleep in front of the fireplace']\n",
    "\n",
    "for elt in to_test:\n",
    "    print('= = = = = \\n','%s -> %s' % (elt, model.predict(elt)[0]))\n",
    "\n"
   ]
  },
  {
   "cell_type": "markdown",
   "metadata": {
    "id": "-4I1ROQnCIcZ"
   },
   "source": [
    "<h3><b>5. Questions:</b></h3>\n",
    "\n",
    "<b><h4><font color='red'>\n",
    "<hr style=\"border:10px solid red\"> </hr>\n",
    "Question 1 (5 points): </b><br>\n",
    "What do you think about our greedy decoding strategy? Base your answer on slides 87-95 from this <a href='https://nlp.stanford.edu/projects/nmt/Luong-Cho-Manning-NMT-ACL2016-v4.pdf'>presentation</a> (taken from this <a href='https://sites.google.com/site/acl16nmt/home'>ACL tutorial</a>).\n",
    "<hr style=\"border:10px solid red\"> </hr>\n",
    "</font></h4>\n",
    "\n",
    "\n",
    "\n",
    "\n",
    "\n",
    "\n"
   ]
  },
  {
   "cell_type": "markdown",
   "metadata": {},
   "source": [
    "<b><h4><font color='green'>\n",
    "<hr style=\"border:10px solid red\"> </hr>\n",
    "Answer 1: \n",
    "From the slides, one can infer that the greedy strategy is not the best one in terms of translation accuracy. \n",
    "Indeed, at each step $t$, the most locally probable word is chosen $x_t = \\arg \\max \\log p(x|x_{<t}, Y)$.\n",
    "However the goal is to maximise the total log probability which is:\n",
    "\n",
    "$$\n",
    "\\log p((x_t)_t | Y) = \\Sigma_{t=1}^n \\log p(x_t | X_{<t}, Y)\n",
    "$$\n",
    "So while you maximize at a step $t$ the value of $\\log p(x_t | x_{<t}, Y) $ the word chosen at $t$, the following terms for $t' > t$ could be small while taking a less likely word at $t$ could make the following terms higher and then the total probability higher.\n",
    "\n",
    "This is analogous to the problem of minimizing the shortest path in a graph, where a greedy choice (always picking the edge to the immediately closest node) may lead you onto a branch that results in a much longer total path length later on.\n",
    "\n",
    "That is why the Beam strategy can be very interesting for accuracy as it keeps in memory several paths.\n",
    "\n",
    "Though the greedy strategy is way better in terms of computation and memory.\n",
    "</b><br>\n",
    "\n",
    "<hr style=\"border:10px solid red\"> </hr>\n",
    "</font></h4>\n",
    "\n",
    "\n"
   ]
  },
  {
   "cell_type": "markdown",
   "metadata": {
    "id": "z0m_Hw-NJopL"
   },
   "source": [
    "<b><h4><font color='red'>\n",
    "<hr style=\"border:10px solid red\"> </hr>\n",
    "Question 2 (5 points): </b><br>\n",
    "What major problem do you observe with our translations?\n",
    "How could we remediate this issue? You may find inspiration from reading <a href='https://arxiv.org/abs/1508.04025'>[Luong et al., 2015]</a> and <a href='https://arxiv.org/abs/1601.04811'>[Tu et al., 2016]</a>.\n",
    "<hr style=\"border:10px solid red\"> </hr>\n",
    "</font></h4>"
   ]
  },
  {
   "cell_type": "markdown",
   "metadata": {
    "id": "eExiju09Jhlp"
   },
   "source": [
    "<b><h4><font color='green'>\n",
    "<hr style=\"border:10px solid red\"> </hr>\n",
    "Answer 2: One can observe that translations accuracy decreases when sentence length increases. That effect was also observed by <a href='https://arxiv.org/abs/1508.04025'>[Luong et al., 2015]</a> in section 5.2 and by <a href='https://arxiv.org/abs/1601.04811'>[Tu et al., 2016]</a> in section 5.4</b><br>\n",
    "\n",
    "<hr style=\"border:10px solid red\"> </hr>\n",
    "</font></h4>\n",
    "\n"
   ]
  },
  {
   "cell_type": "markdown",
   "metadata": {
    "id": "RawMHJkMJk-r"
   },
   "source": [
    "<b><h4><font color='red'>\n",
    "<hr style=\"border:10px solid red\"> </hr>\n",
    "Question 3 (5 points): </b><br>\n",
    "Write some code to visualize source/target alignments in the style of Fig. 3 in <a href='https://arxiv.org/abs/1409.0473'>[Bahdanau et al., 2014]</a> or Fig. 7 in <a href='https://arxiv.org/abs/1508.04025'>[Luong et al., 2015]</a>.\n",
    "Interpret your figures for some relevant examples (e.g. to illustrate adjective-noun inversion)\n",
    "<hr style=\"border:10px solid red\"> </hr>\n",
    "</font></h4>"
   ]
  },
  {
   "cell_type": "code",
   "execution_count": 84,
   "metadata": {
    "id": "K4eaYTs3E4gQ"
   },
   "outputs": [
    {
     "data": {
      "image/png": "[encoded data removed]",
      "text/plain": [
       "<Figure size 640x480 with 2 Axes>"
      ]
     },
     "metadata": {},
     "output_type": "display_data"
    },
    {
     "data": {
      "text/plain": [
       "(['my', 'brother', 'likes', 'pizza', '.'],\n",
       " ['mon',\n",
       "  'frère',\n",
       "  'aime',\n",
       "  'la',\n",
       "  'pizza',\n",
       "  '.',\n",
       "  '.',\n",
       "  '.',\n",
       "  '.',\n",
       "  '.',\n",
       "  '.',\n",
       "  '.',\n",
       "  '.',\n",
       "  '.',\n",
       "  '.',\n",
       "  '.',\n",
       "  '.',\n",
       "  '.',\n",
       "  '.',\n",
       "  '.',\n",
       "  '.',\n",
       "  '.',\n",
       "  '.',\n",
       "  '.',\n",
       "  '.',\n",
       "  '.',\n",
       "  '.',\n",
       "  '.',\n",
       "  '.',\n",
       "  '.'])"
      ]
     },
     "execution_count": 84,
     "metadata": {},
     "output_type": "execute_result"
    }
   ],
   "source": [
    "def get_tokens(text):\n",
    "    text_clean = text.lower().replace(\"'\", ' ').replace('-', ' ').replace('.', ' . ')\n",
    "    tokens = text_clean.split()\n",
    "    return tokens\n",
    "\n",
    "def plot_fig_alignments(model, source_sentence):\n",
    "    prediction, weights = model.predict(source_sentence)\n",
    "\n",
    "    source_tokens = get_tokens(source_sentence)\n",
    "    target_tokens = get_tokens(prediction)\n",
    "    attention_matrix = np.array(weights)\n",
    "\n",
    "    fig, ax = plt.subplots()\n",
    "\n",
    "    im = ax.imshow(\n",
    "        attention_matrix,\n",
    "        cmap=\"Blues\", \n",
    "        aspect='auto',\n",
    "        interpolation='nearest' \n",
    "    )\n",
    "\n",
    "    fig.colorbar(im, ax=ax)\n",
    "    \n",
    "    ax.set_xticks(np.arange(len(source_tokens)))\n",
    "    ax.set_xticklabels(source_tokens)\n",
    "        \n",
    "    ax.set_yticks(np.arange(len(target_tokens)))\n",
    "    ax.set_yticklabels(target_tokens)\n",
    "    \n",
    "    ax.set_ylabel(\"Target: Predicted Tokens\", fontsize=12)\n",
    "\n",
    "    \n",
    "    plt.xticks(rotation=45, ha='right')\n",
    "    plt.yticks(rotation=0)\n",
    "    \n",
    "    ax.set_xticks(np.arange(attention_matrix.shape[1] + 1) - 0.5, minor=True)\n",
    "    ax.set_yticks(np.arange(attention_matrix.shape[0] + 1) - 0.5, minor=True)\n",
    "    ax.grid(which=\"minor\", color=\"lightgrey\", linestyle='-', linewidth=0.5)\n",
    "    ax.tick_params(which=\"minor\", bottom=False, left=False)\n",
    "    \n",
    "    plt.tight_layout()\n",
    "    plt.show()\n",
    "    \n",
    "    return source_tokens, target_tokens\n",
    "\n",
    "plot_fig_alignments(model, \"My brother likes pizza.\")"
   ]
  },
  {
   "cell_type": "markdown",
   "metadata": {
    "id": "-HY_LqQoJW_z"
   },
   "source": [
    "<b><h4><font color='green'>\n",
    "<hr style=\"border:10px solid red\"> </hr>\n",
    "Answer 3: </b><br>\n",
    "\n",
    "<hr style=\"border:10px solid red\"> </hr>\n",
    "</font></h4>"
   ]
  },
  {
   "cell_type": "markdown",
   "metadata": {
    "id": "_jRkSDMjFXLH"
   },
   "source": [
    "\n",
    "\n",
    "\n",
    "<b><h4><font color='red'>\n",
    "<hr style=\"border:10px solid red\"> </hr>\n",
    "Question 4 (5 points): </b><br>\n",
    "What do you observe in the translations of the sentences below?\n",
    "What properties of language models does that illustrate?\n",
    "Read <a href='https://arxiv.org/abs/1802.05365'>[Peters et al., 2018]</a> and <a href='https://arxiv.org/abs/1810.04805'>[Devlin et al., 2018]</a>  to get some ideas.\n",
    "<ul>\n",
    "<b><h4><font color='red'>\n",
    "<li>$\\texttt{I did not mean to hurt you}$\n",
    "<li>$\\texttt{She is so mean}$\n",
    "</ul>\n",
    "<hr style=\"border:10px solid red\"> </hr>\n",
    "</font></h4>\n",
    "\n"
   ]
  },
  {
   "cell_type": "markdown",
   "metadata": {
    "id": "4AyxolVhJU5u"
   },
   "source": [
    "<b><h4><font color='green'>\n",
    "<hr style=\"border:10px solid red\"> </hr>\n",
    "Answer 4: \n",
    "As a reminder the model translates these two sentences as:\n",
    "\n",
    "<br>\n",
    "I did not mean to hurt you -> je n ai pas voulu intention de blesser blesser blesser blesser blesser blesser . blesser . blesser . . . . . . . . . . . . .\n",
    "<br>\n",
    " She is so mean -> elle est tellement méchant méchant . <EOS>\n",
    "<br> <br>\n",
    "\n",
    "The word \"mean\" is used twice with a different meaning each time and the language model grasps the different meaning (\"méchant\" and \"avoir l'intention de\". This property is called \"Word Sense Disambiguation\" by <a href='https://arxiv.org/abs/1802.05365'>[Peters et al., 2018]</a>, thanks to 1 nearest neighbor the language model grasps the meaning of the word in this specific context.</b><br>\n",
    "\n",
    "<hr style=\"border:10px solid red\"> </hr>\n",
    "</font></h4>\n"
   ]
  },
  {
   "cell_type": "code",
   "execution_count": null,
   "metadata": {},
   "outputs": [],
   "source": []
  },
  {
   "cell_type": "markdown",
   "metadata": {
    "id": "Z--prNCiJ0Un"
   },
   "source": [
    "### <b>6. Appendix:</b>\n",
    "<h4><b>6.1. GRU unit:</b></h4>\n",
    "<p style=\"text-align: justify;\">\n",
    "As shown in Fig. 3, the GRU unit <a href='https://arxiv.org/abs/1406.1078'>[Cho et al., 2014]</a> is a simple RNN unit with two gates (reset and update):\n",
    "\n",
    "\\begin{equation}\n",
    "\\text{reset gate:}~~r_{t} = \\sigma \\big(U_{r}x_{t} + W_{r}h_{t-1} + b_r\\big)\n",
    "\\end{equation}\n",
    "\n",
    "\\begin{equation}\n",
    "\\text{update gate:}~~z_{t} = \\sigma \\big(U_{z}x_{t} + W_{z}h_{t-1} + b_z\\big)\n",
    "\\end{equation}\n",
    "\n",
    "The candidate hidden state is computed as:\n",
    "\n",
    "\\begin{equation}\n",
    "\\hat{h}_{t} = \\mathrm{tanh} \\big(U_{h}x_{t} + W_{h} (r_t \\circ h_{t-1}) + b_h\\big)\n",
    "\\end{equation}\n",
    "\n",
    "<center>\n",
    "<img width='500px' src='https://1drv.ms/i/c/ae69638675180117/UQQXARh1hmNpIICuuYQBAAAAAEpvFJzwgjB2a3Y?width=703&height=489' />\n",
    "<br>\n",
    "<b>Figure 3:</b> GRU unit. Taken from <a href='http://colah.github.io/posts/2015-08-Understanding-LSTMs/'>Chris Olah's blog</a>.<br>\n",
    "</center>\n",
    "\n",
    "The reset gate determines how much of the information from the previous time steps (stored in $h_{t-1}$) should be discarded.\n",
    "The new hidden state is finally obtained by linearly interpolating between the previous hidden state and the candidate one:\n",
    "\n",
    "\\begin{equation}\n",
    "h_{t} = (1-z_t) \\circ {h}_{t-1} + z_t \\circ \\hat{h}_{t}\n",
    "\\end{equation}"
   ]
  }
 ],
 "metadata": {
  "accelerator": "GPU",
  "colab": {
   "include_colab_link": true,
   "provenance": []
  },
  "kernelspec": {
   "display_name": "Python 3 (ipykernel)",
   "language": "python",
   "name": "python3"
  },
  "language_info": {
   "codemirror_mode": {
    "name": "ipython",
    "version": 3
   },
   "file_extension": ".py",
   "mimetype": "text/x-python",
   "name": "python",
   "nbconvert_exporter": "python",
   "pygments_lexer": "ipython3",
   "version": "3.8.20"
  }
 },
 "nbformat": 4,
 "nbformat_minor": 4
}
